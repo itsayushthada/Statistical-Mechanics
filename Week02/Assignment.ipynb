{
 "cells": [
  {
   "cell_type": "markdown",
   "metadata": {},
   "source": [
    "# Molecular Dynamics: Equiprobability Estimation Using Simulations"
   ]
  },
  {
   "cell_type": "code",
   "execution_count": 1,
   "metadata": {},
   "outputs": [],
   "source": [
    "import numpy as np\n",
    "import matplotlib.pyplot as plt\n",
    "import matplotlib.colors as mcolors\n",
    "from itertools import combinations"
   ]
  },
  {
   "cell_type": "markdown",
   "metadata": {},
   "source": [
    "## Utility Functions"
   ]
  },
  {
   "cell_type": "code",
   "execution_count": 2,
   "metadata": {},
   "outputs": [],
   "source": [
    "colors = list(mcolors.TABLEAU_COLORS.keys()) + list(mcolors.BASE_COLORS.keys()) + list(mcolors.CSS4_COLORS.keys())"
   ]
  },
  {
   "cell_type": "code",
   "execution_count": 3,
   "metadata": {},
   "outputs": [],
   "source": [
    "def draw_circle(coord, radius):\n",
    "    fig, ax = plt.subplots()\n",
    "    for x in coord:\n",
    "        c = plt.Circle(x, radius, fc=np.random.choice(colors), ec=\"black\") \n",
    "        ax.add_artist(c)\n",
    "    \n",
    "    plt.show()"
   ]
  },
  {
   "cell_type": "code",
   "execution_count": 4,
   "metadata": {},
   "outputs": [],
   "source": [
    "def samples_density(samples, name):\n",
    "    plt.rcParams['figure.figsize'] = [20, 7]\n",
    "\n",
    "    plt.subplot(1, 2, 1)\n",
    "    plt.hist(samples[:,0], bins=100, density=True)\n",
    "    plt.xlabel('x')\n",
    "    plt.ylabel('Frequency')\n",
    "    plt.title('{} sampling: X coordinate histogram (density eta=0.18)'.format(name))\n",
    "    plt.grid()\n",
    "\n",
    "    plt.subplot(1, 2, 2)\n",
    "    plt.hist(samples[:,1], bins=100, density=True)\n",
    "    plt.xlabel('y')\n",
    "    plt.ylabel('Frequency')\n",
    "    plt.title('{} sampling: Y coordinate histogram (density eta=0.18)'.format(name))\n",
    "    plt.grid()\n",
    "    plt.show()"
   ]
  },
  {
   "cell_type": "code",
   "execution_count": 5,
   "metadata": {},
   "outputs": [],
   "source": [
    "distance = lambda p1,p2: np.sqrt(np.sum((p1 - p2)**2, axis=-1))"
   ]
  },
  {
   "cell_type": "code",
   "execution_count": 6,
   "metadata": {},
   "outputs": [],
   "source": [
    "def hit_counter(samples, configurations, del_xy):\n",
    "    hits = {key: 0 for key in configurations.keys()}\n",
    "    for i in range(samples.shape[0]):\n",
    "        for conf in configurations.keys():\n",
    "            condition_hit = True\n",
    "            for y in configurations[conf]:\n",
    "                condition_b = min(max(abs(x[0] - y[0]), abs(x[1] - y[1])) for x in samples[i]) < del_xy\n",
    "                condition_hit *= condition_b\n",
    "            if condition_hit:\n",
    "                    hits[conf] += 1\n",
    "\n",
    "        if i+1 in [int(1e1), int(1e2), int(1e3), int(1e4), int(1e5), int(1e6)]:\n",
    "            print(\"For {} samples: {}\".format(i+1, hits))"
   ]
  },
  {
   "cell_type": "markdown",
   "metadata": {},
   "source": [
    "# Direct Sampling"
   ]
  },
  {
   "cell_type": "markdown",
   "metadata": {},
   "source": [
    "### Question 1\n",
    "Check that equiprobability is satisfied in **direct_disks_box.py**. Check it not for all legal configurations, but for the three configurations (a, b, c) shown below. The probability to hit any of these configurations exactly is of course zero, so we must put little boxes around them, as shown in red:"
   ]
  },
  {
   "cell_type": "markdown",
   "metadata": {},
   "source": [
    "<img src=\"Section 1.png\"/>"
   ]
  },
  {
   "cell_type": "markdown",
   "metadata": {},
   "source": [
    "Using small boxes $[x - \\delta_{xy}, x + \\delta_{xy}]$, etc, modify the program **direct_disks_box_multirun.py** to show that the probability to sample configurations a, b, and c are the same (within the numerical precision), with"
   ]
  },
  {
   "cell_type": "code",
   "execution_count": 7,
   "metadata": {},
   "outputs": [],
   "source": [
    "conf_a = ((0.30, 0.30), (0.30, 0.70), (0.70, 0.30), (0.70,0.70))\n",
    "conf_b = ((0.20, 0.20), (0.20, 0.80), (0.75, 0.25), (0.75,0.75))\n",
    "conf_c = ((0.30, 0.20), (0.30, 0.80), (0.70, 0.20), (0.70,0.70))"
   ]
  },
  {
   "cell_type": "code",
   "execution_count": 8,
   "metadata": {},
   "outputs": [],
   "source": [
    "def sample_disks_direct(balls, radius, pair_idx):\n",
    "    coords = np.random.uniform(low = radius, high = 1-radius, size=(balls, 2))\n",
    "    if np.min(distance(coords[(pair_idx[:,0])], coords[(pair_idx[:,1])])) < 2*radius:\n",
    "        return sample_disks_direct(balls, radius, pair_idx)\n",
    "    return coords"
   ]
  },
  {
   "cell_type": "code",
   "execution_count": 9,
   "metadata": {},
   "outputs": [],
   "source": [
    "def direct_sampling(runs, balls, radius):\n",
    "    pair_idx = np.array(list(combinations(range(0, balls),2)))\n",
    "    return np.squeeze([sample_disks_direct(balls, radius, pair_idx) for x in range(int(runs))])"
   ]
  },
  {
   "cell_type": "code",
   "execution_count": 10,
   "metadata": {},
   "outputs": [
    {
     "data": {
      "image/png": "[encoded data removed]",
      "text/plain": [
       "<Figure size 504x504 with 1 Axes>"
      ]
     },
     "metadata": {},
     "output_type": "display_data"
    }
   ],
   "source": [
    "plt.rcParams['figure.figsize'] = [7, 7]\n",
    "\n",
    "draw_circle(direct_sampling(1, 4, 0.02), 0.02)"
   ]
  },
  {
   "cell_type": "code",
   "execution_count": 11,
   "metadata": {},
   "outputs": [
    {
     "name": "stdout",
     "output_type": "stream",
     "text": [
      "For 10 samples: {'conf_A': 0, 'conf_B': 0, 'conf_C': 0}\n",
      "For 100 samples: {'conf_A': 0, 'conf_B': 0, 'conf_C': 0}\n",
      "For 1000 samples: {'conf_A': 0, 'conf_B': 0, 'conf_C': 0}\n",
      "For 10000 samples: {'conf_A': 1, 'conf_B': 1, 'conf_C': 1}\n",
      "For 100000 samples: {'conf_A': 16, 'conf_B': 12, 'conf_C': 12}\n",
      "For 1000000 samples: {'conf_A': 116, 'conf_B': 129, 'conf_C': 129}\n"
     ]
    }
   ],
   "source": [
    "configurations = {\"conf_A\":conf_a, \"conf_B\":conf_b, \"conf_C\":conf_b}\n",
    "\n",
    "del_xy = 0.05\n",
    "balls = 4\n",
    "radius = 0.15\n",
    "runs = int(1e6)\n",
    "\n",
    "samples_direct = direct_sampling(runs, balls, radius)\n",
    "hit_counter(samples_direct, configurations, del_xy)"
   ]
  },
  {
   "cell_type": "code",
   "execution_count": 12,
   "metadata": {},
   "outputs": [
    {
     "name": "stdout",
     "output_type": "stream",
     "text": [
      "For 10 samples: {'conf_A': 0, 'conf_B': 0, 'conf_C': 0}\n",
      "For 100 samples: {'conf_A': 2, 'conf_B': 1, 'conf_C': 1}\n",
      "For 1000 samples: {'conf_A': 18, 'conf_B': 4, 'conf_C': 4}\n",
      "For 10000 samples: {'conf_A': 175, 'conf_B': 85, 'conf_C': 85}\n",
      "For 100000 samples: {'conf_A': 1927, 'conf_B': 959, 'conf_C': 959}\n",
      "For 1000000 samples: {'conf_A': 18915, 'conf_B': 9401, 'conf_C': 9401}\n"
     ]
    }
   ],
   "source": [
    "configurations = {\"conf_A\":conf_a, \"conf_B\":conf_b, \"conf_C\":conf_b}\n",
    "\n",
    "balls = 4\n",
    "radius = 0.15\n",
    "runs = int(1e6)\n",
    "del_xy = 0.10\n",
    "\n",
    "samples_direct = direct_sampling(runs, balls, radius)\n",
    "hit_counter(samples_direct, configurations, del_xy)"
   ]
  },
  {
   "cell_type": "code",
   "execution_count": 13,
   "metadata": {},
   "outputs": [
    {
     "name": "stdout",
     "output_type": "stream",
     "text": [
      "For 10 samples: {'conf_A': 0, 'conf_B': 0, 'conf_C': 0}\n",
      "For 100 samples: {'conf_A': 0, 'conf_B': 0, 'conf_C': 0}\n",
      "For 1000 samples: {'conf_A': 1, 'conf_B': 2, 'conf_C': 2}\n",
      "For 10000 samples: {'conf_A': 29, 'conf_B': 19, 'conf_C': 19}\n",
      "For 100000 samples: {'conf_A': 314, 'conf_B': 195, 'conf_C': 195}\n",
      "For 1000000 samples: {'conf_A': 2948, 'conf_B': 2007, 'conf_C': 2007}\n"
     ]
    }
   ],
   "source": [
    "configurations = {\"conf_A\":conf_a, \"conf_B\":conf_b, \"conf_C\":conf_b}\n",
    "\n",
    "balls = 4\n",
    "radius = 0.1197\n",
    "n_runs = int(1e6)\n",
    "del_xy = 0.10\n",
    "\n",
    "samples_direct = direct_sampling(runs, balls, radius)\n",
    "hit_counter(samples_direct, configurations, del_xy)\n",
    "samples = np.vstack(samples_direct)"
   ]
  },
  {
   "cell_type": "code",
   "execution_count": 14,
   "metadata": {},
   "outputs": [
    {
     "data": {
      "image/png": "[encoded data removed]",
      "text/plain": [
       "<Figure size 1440x504 with 2 Axes>"
      ]
     },
     "metadata": {},
     "output_type": "display_data"
    }
   ],
   "source": [
    "samples_density(samples, \"Direct\")"
   ]
  },
  {
   "cell_type": "markdown",
   "metadata": {},
   "source": [
    "### Solution"
   ]
  },
  {
   "cell_type": "markdown",
   "metadata": {},
   "source": [
    "Here all the points are configuration ie. each 8-dimensional points are sampled independently. But due to that sometime, such configurations are sampled which violates the overlapping constraints, but those configurations are rejected and the point is resampled until it doesn't violate the constraints.\n",
    "If the sampling was done as a chain, only the sampling os seed would be independent and the rest of the points will be conditioned on that first point and the probability of the sample will not be equiprobable each participant of the set of all possible configuration."
   ]
  },
  {
   "cell_type": "markdown",
   "metadata": {},
   "source": [
    "# Markov Chain Sampling"
   ]
  },
  {
   "cell_type": "markdown",
   "metadata": {},
   "source": [
    "### Question 2"
   ]
  },
  {
   "cell_type": "markdown",
   "metadata": {},
   "source": [
    "Analogously, check equiprobability of the configurations a, b, and c of Section A1, for the algorithm markov_disks_box.py\n",
    "\n",
    "Compare with the analogous problem in Section A1: You might observe larger fluctuations of the results. Is that at all possible, given that Markov-chain sampling and Direct sampling should yield the same results?"
   ]
  },
  {
   "cell_type": "code",
   "execution_count": 15,
   "metadata": {},
   "outputs": [],
   "source": [
    "def sample_disks_markov(balls, radius, delta, pair_idx):\n",
    "    coords = [np.random.uniform(low=radius, high=1-radius, size=(1,2))]\n",
    "    \n",
    "    while len(coords)<balls:\n",
    "        n_point = coords[-1] + np.random.uniform(low=-delta, high=delta, size=(1,2))\n",
    "        if np.min(n_point) >= radius and np.max(n_point) <= 1-radius:\n",
    "            coords.append(n_point)\n",
    "    coords = np.squeeze(np.array(coords))\n",
    "\n",
    "    if np.min(distance(coords[(pair_idx[:,0])], coords[(pair_idx[:,1])])) < 2*radius:\n",
    "        return sample_disks_markov(balls, radius, delta, pair_idx)\n",
    "    return coords"
   ]
  },
  {
   "cell_type": "code",
   "execution_count": 16,
   "metadata": {},
   "outputs": [],
   "source": [
    "def markov_sampling(runs, balls, radius, delta):\n",
    "    pair_idx = np.array(list(combinations(range(0, balls),2)))\n",
    "    return np.squeeze([sample_disks_markov(balls, radius, delta, pair_idx) for x in range(int(runs))])"
   ]
  },
  {
   "cell_type": "code",
   "execution_count": 17,
   "metadata": {},
   "outputs": [
    {
     "data": {
      "image/png": "[encoded data removed]",
      "text/plain": [
       "<Figure size 504x504 with 1 Axes>"
      ]
     },
     "metadata": {},
     "output_type": "display_data"
    }
   ],
   "source": [
    "plt.rcParams['figure.figsize'] = [7, 7]\n",
    "\n",
    "draw_circle(markov_sampling(1, 4, 0.02, 0.4), 0.02)"
   ]
  },
  {
   "cell_type": "code",
   "execution_count": 18,
   "metadata": {},
   "outputs": [
    {
     "name": "stdout",
     "output_type": "stream",
     "text": [
      "For 10 samples: {'conf_A': 0, 'conf_B': 0, 'conf_C': 0}\n",
      "For 100 samples: {'conf_A': 0, 'conf_B': 0, 'conf_C': 0}\n",
      "For 1000 samples: {'conf_A': 2, 'conf_B': 0, 'conf_C': 0}\n",
      "For 10000 samples: {'conf_A': 35, 'conf_B': 0, 'conf_C': 2}\n",
      "For 100000 samples: {'conf_A': 242, 'conf_B': 0, 'conf_C': 18}\n",
      "For 1000000 samples: {'conf_A': 2596, 'conf_B': 0, 'conf_C': 163}\n"
     ]
    }
   ],
   "source": [
    "configurations = {\"conf_A\": conf_a, \"conf_B\": conf_b, \"conf_C\": conf_c}\n",
    "\n",
    "balls = 4\n",
    "radius = 0.1197\n",
    "delta = 0.4\n",
    "runs = int(1e6)\n",
    "del_xy = 0.10\n",
    "\n",
    "samples_markov = markov_sampling(runs, balls, radius, delta)\n",
    "hit_counter(samples_markov, configurations, del_xy)\n",
    "samples = np.vstack(samples_markov)"
   ]
  },
  {
   "cell_type": "code",
   "execution_count": 19,
   "metadata": {},
   "outputs": [
    {
     "data": {
      "image/png": "[encoded data removed]",
      "text/plain": [
       "<Figure size 1440x504 with 2 Axes>"
      ]
     },
     "metadata": {},
     "output_type": "display_data"
    }
   ],
   "source": [
    "samples_density(samples, \"Markov Chain\")"
   ]
  },
  {
   "cell_type": "markdown",
   "metadata": {},
   "source": [
    "### Solution"
   ]
  },
  {
   "cell_type": "markdown",
   "metadata": {},
   "source": [
    "Markov-chain sampling and Direct sampling could yield the same results but for very large numbers of runs because in Markov Chain sampling many samples are rejected and that can be compensated by collecting a large number of samples.\n",
    "\n",
    "Markov chain sampling can result in equiprobability states only if the jump size if space from which has to be sampled is a subset of the set of points which can be sampled at any time instant t in the Markov Chain sampling which is possible only if the jump size is large enough that it over the whole space from which sampling has to be done.\n",
    "\n",
    "In case of relatively small jump size, as compared to the dimension of the space, all the points of space may not equally probable."
   ]
  },
  {
   "cell_type": "markdown",
   "metadata": {},
   "source": [
    "# Molecular Dynamics Even Driven Sampling"
   ]
  },
  {
   "cell_type": "markdown",
   "metadata": {},
   "source": [
    "### Question 3\n",
    "\n",
    "Consider the program event_disks_box.py.\n",
    "\n",
    "Prove, without any numerical simulations, that no event-configuration will count for the configurations a, b, c of Section A1. Show that this means that the event positions are not equally probable (Note that this is rather natural).\n",
    "\n",
    "Modify the program event_disks_box.py, so that it determines the configurations at constant time intervals, t=0, Delta t, 2 Delta t, 3 Delta t,.. It is for these configurations that equal probability should be valid.\n",
    "\n",
    "Note that in this program, we use del_xy = 0.1, and sigma = 0.1, in order to improve statistics.\n",
    "\n",
    "Then do the following:\n",
    "\n",
    "+ First answer the question about event-configurations from the beginning of the section.\n",
    "+ Run the program for 5,000,000 events, write down how many times you were close to a, b, and c. (choose smaller number of events, if you cannot run that long). Do you get an indication in favor of equiprobability?\n",
    "+ What is the total running time at the end of the simulation, and at what times are the configurations analyzed (is it at time 0,1,2,3,... or at times 0,2,4,6,... or at times 0, 0.1, 0.2, 0.3....?). (Hint: put print statements to find out).\n",
    "\n",
    "+ Briefly explain (in two sentences) the paradox that gives a non-constant histogram for a manifestly equiprobable probability distribution, as we checked in section A1.\n",
    "\n",
    "+ Comment on your findings by Histograms: Do you find that direct-sampling, Markov-chain sampling and molecular dynamics give the same histogram for the x-position of the disks?"
   ]
  },
  {
   "cell_type": "code",
   "execution_count": 20,
   "metadata": {},
   "outputs": [],
   "source": [
    "def wall_time(pos_a, vel_a, radius):\n",
    "    if vel_a > 0.0:\n",
    "        del_t = (1.0 - radius - pos_a) / vel_a\n",
    "    elif vel_a < 0.0:\n",
    "        del_t = (pos_a - radius) / abs(vel_a)\n",
    "    else:\n",
    "        del_t = float('inf')\n",
    "    return del_t"
   ]
  },
  {
   "cell_type": "code",
   "execution_count": 21,
   "metadata": {},
   "outputs": [],
   "source": [
    "def pair_time(pos_a, vel_a, pos_b, vel_b, radius):\n",
    "    del_x = [pos_b[0] - pos_a[0], pos_b[1] - pos_a[1]]\n",
    "    del_x_sq = del_x[0] ** 2 + del_x[1] ** 2\n",
    "    del_v = [vel_b[0] - vel_a[0], vel_b[1] - vel_a[1]]\n",
    "    del_v_sq = del_v[0] ** 2 + del_v[1] ** 2\n",
    "    scal = del_v[0] * del_x[0] + del_v[1] * del_x[1]\n",
    "    Upsilon = scal ** 2 - del_v_sq * (del_x_sq - 4.0 * radius ** 2)\n",
    "    if Upsilon > 0.0 and scal < 0.0:\n",
    "        del_t = - (scal + np.sqrt(Upsilon)) / del_v_sq\n",
    "    else:\n",
    "        del_t = float('inf')\n",
    "    return del_t"
   ]
  },
  {
   "cell_type": "code",
   "execution_count": 22,
   "metadata": {},
   "outputs": [],
   "source": [
    "min_arg = lambda l: min(zip(l, range(len(l))))"
   ]
  },
  {
   "cell_type": "code",
   "execution_count": 23,
   "metadata": {},
   "outputs": [],
   "source": [
    "def compute_next_event(pos, vel, radius, singles, pairs):\n",
    "    wall_times = [wall_time(pos[k][l], vel[k][l], radius) for k, l in singles]\n",
    "    pair_times = [pair_time(pos[k], vel[k], pos[l], vel[l], radius) for k, l in pairs]\n",
    "    return min_arg(wall_times + pair_times)"
   ]
  },
  {
   "cell_type": "code",
   "execution_count": 24,
   "metadata": {},
   "outputs": [],
   "source": [
    "def compute_new_velocities(pos, vel, next_event_arg, singles, pairs):\n",
    "    if next_event_arg < len(singles):\n",
    "        collision_disk, direction = singles[next_event_arg]\n",
    "        vel[collision_disk][direction] *= -1.0\n",
    "    else:\n",
    "        a, b = pairs[next_event_arg - len(singles)]\n",
    "        del_x = [pos[b][0] - pos[a][0], pos[b][1] - pos[a][1]]\n",
    "        abs_x = np.sqrt(del_x[0] ** 2 + del_x[1] ** 2)\n",
    "        e_perp = [c / abs_x for c in del_x]\n",
    "        del_v = [vel[b][0] - vel[a][0], vel[b][1] - vel[a][1]]\n",
    "        scal = del_v[0] * e_perp[0] + del_v[1] * e_perp[1]\n",
    "        for k in range(2):\n",
    "            vel[a][k] += e_perp[k] * scal\n",
    "            vel[b][k] -= e_perp[k] * scal"
   ]
  },
  {
   "cell_type": "code",
   "execution_count": 25,
   "metadata": {},
   "outputs": [],
   "source": [
    "def MD_samples(events = 100, balls=4, radius=0.05, dt = 0.02):\n",
    "    samples_pos = []\n",
    "    samples_vel = []\n",
    "    \n",
    "    pos = direct_sampling(1, balls, radius)\n",
    "    vel = np.random.uniform(low=radius, high=1-radius, size=(balls, 2))\n",
    "    singles = sum([[(x, 0), (x, 1)] for x in range(balls)], [])\n",
    "    pairs = list(combinations(range(0, balls),2))\n",
    "    t = 0.0\n",
    "    next_event, next_event_arg = compute_next_event(pos, vel, radius, singles, pairs)\n",
    "\n",
    "    samples_pos.append(np.copy(pos))\n",
    "    samples_vel.append(np.copy(vel))\n",
    "\n",
    "    for step in range(events):\n",
    "        if dt:\n",
    "            next_t = t + dt\n",
    "        else:\n",
    "            next_t = t + next_event\n",
    "        while t + next_event <= next_t:\n",
    "            t += next_event\n",
    "            for k, l in singles: pos[k][l] += vel[k][l] * next_event\n",
    "            samples_pos.append(np.copy(pos))\n",
    "            samples_vel.append(np.copy(vel))\n",
    "            compute_new_velocities(pos, vel, next_event_arg, singles, pairs)\n",
    "            next_event, next_event_arg = compute_next_event(pos, vel, radius, singles, pairs)\n",
    "        remain_t = next_t - t\n",
    "        \n",
    "        for k, l in singles: pos[k][l] += vel[k][l] * remain_t\n",
    "        samples_pos.append(np.copy(pos))\n",
    "        samples_vel.append(np.copy(vel))\n",
    "\n",
    "        t += remain_t\n",
    "        next_event -= remain_t\n",
    "        \n",
    "    return np.squeeze(samples_pos), np.squeeze(samples_vel), t"
   ]
  },
  {
   "cell_type": "code",
   "execution_count": 26,
   "metadata": {},
   "outputs": [
    {
     "name": "stdout",
     "output_type": "stream",
     "text": [
      "For 10 samples: {'conf_A': 0, 'conf_B': 0, 'conf_C': 0}\n",
      "For 100 samples: {'conf_A': 0, 'conf_B': 0, 'conf_C': 0}\n",
      "For 1000 samples: {'conf_A': 1, 'conf_B': 0, 'conf_C': 0}\n",
      "For 10000 samples: {'conf_A': 10, 'conf_B': 15, 'conf_C': 7}\n",
      "For 100000 samples: {'conf_A': 137, 'conf_B': 117, 'conf_C': 108}\n",
      "For 1000000 samples: {'conf_A': 1191, 'conf_B': 1398, 'conf_C': 1284}\n"
     ]
    }
   ],
   "source": [
    "configurations = {\"conf_A\": conf_a, \"conf_B\": conf_b, \"conf_C\": conf_c}\n",
    "\n",
    "balls = 4\n",
    "radius = 0.1197\n",
    "dt = 0.2\n",
    "runs = int(5e6)\n",
    "del_xy = 0.10\n",
    "\n",
    "samples_md, _, _ = MD_samples(runs, balls, radius, dt)\n",
    "hit_counter(samples_md, configurations, del_xy)\n",
    "samples = np.vstack(samples_md)"
   ]
  },
  {
   "cell_type": "code",
   "execution_count": 27,
   "metadata": {},
   "outputs": [
    {
     "data": {
      "image/png": "[encoded data removed]",
      "text/plain": [
       "<Figure size 1440x504 with 2 Axes>"
      ]
     },
     "metadata": {},
     "output_type": "display_data"
    }
   ],
   "source": [
    "samples_density(samples, \"Event Driven Molecular Dynamics\")"
   ]
  },
  {
   "cell_type": "markdown",
   "metadata": {},
   "source": [
    "### Solution"
   ]
  },
  {
   "cell_type": "markdown",
   "metadata": {},
   "source": [
    "**1.** The configurations a, b, c are themselves no event configurations, for any position of the disks inside the red squares. Therefore, event-configurations are not what one should look at. (NB (not required) event-configurations are at the boundary of the space of legal configurations).\n",
    "\n",
    "**2.** I was close to A, B and C 1191, 1398 &  1284 times respectively. According to this simulation as well as other simulations that I've tried, it seems that A, B, and C are equiprobable.\n",
    "\n",
    "**3.** Total Running Time: 611851.1288527708 units\n",
    "\n",
    "**4.** Equiprobability applies to the available configuration space... It is normal to find more configurations in the corner. When a disk is in the corner, it leaves more space for the other disks.\n",
    "\n",
    "**5.** Yes, the distributions are the same."
   ]
  },
  {
   "cell_type": "code",
   "execution_count": null,
   "metadata": {},
   "outputs": [],
   "source": []
  }
 ],
 "metadata": {
  "@webio": {
   "lastCommId": null,
   "lastKernelId": null
  },
  "kernelspec": {
   "display_name": "Python 3",
   "language": "python",
   "name": "python3"
  },
  "language_info": {
   "codemirror_mode": {
    "name": "ipython",
    "version": 3
   },
   "file_extension": ".py",
   "mimetype": "text/x-python",
   "name": "python",
   "nbconvert_exporter": "python",
   "pygments_lexer": "ipython3",
   "version": "3.6.6"
  }
 },
 "nbformat": 4,
 "nbformat_minor": 2
}
