{
 "cells": [
  {
   "cell_type": "code",
   "execution_count": 1,
   "metadata": {},
   "outputs": [],
   "source": [
    "import numpy as np\n",
    "import matplotlib.pyplot as plt"
   ]
  },
  {
   "cell_type": "markdown",
   "metadata": {},
   "source": [
    "# Section A: Equiprobability"
   ]
  },
  {
   "cell_type": "markdown",
   "metadata": {},
   "source": [
    "### Question 1\n",
    "Check that equiprobability is satisfied in **direct_disks_box.py**. Check it not for all legal configurations, but for the three configurations (a, b, c) shown below. The probability to hit any of these configurations exactly is of course zero, so we must put little boxes around them, as shown in red:"
   ]
  },
  {
   "cell_type": "markdown",
   "metadata": {},
   "source": [
    "<img src=\"Section 1.png\"/>"
   ]
  },
  {
   "cell_type": "markdown",
   "metadata": {},
   "source": [
    "Using small boxes $[x - \\delta_{xy}, x + \\delta_{xy}]$, etc, modify the program **direct_disks_box_multirun.py** to show that the probability to sample configurations a, b, and c are the same (within the numerical precision), with"
   ]
  },
  {
   "cell_type": "code",
   "execution_count": 2,
   "metadata": {},
   "outputs": [],
   "source": [
    "a = ((0.30, 0.30), (0.30, 0.70), (0.70, 0.30), (0.70,0.70))\n",
    "b = ((0.20, 0.20), (0.20, 0.80), (0.75, 0.25), (0.75,0.75))\n",
    "c = ((0.30, 0.20), (0.30, 0.80), (0.70, 0.20), (0.70,0.70))"
   ]
  },
  {
   "cell_type": "markdown",
   "metadata": {},
   "source": [
    "### Solution"
   ]
  },
  {
   "cell_type": "code",
   "execution_count": 41,
   "metadata": {},
   "outputs": [],
   "source": [
    "def draw_circle(coord, radius):\n",
    "    fig, ax = plt.subplots()\n",
    "    for x in coord:\n",
    "        c = plt.Circle(x, radius) \n",
    "        ax.add_artist(c)\n",
    "    \n",
    "    plt.show()"
   ]
  },
  {
   "cell_type": "code",
   "execution_count": 96,
   "metadata": {},
   "outputs": [],
   "source": [
    "def sample_disks(balls, radius):\n",
    "    coords = np.random.uniform(low = radius, high = 1-radius, size=(balls, 2))\n",
    "    \n",
    "    for i in range(coords.shape[0]):\n",
    "        for j in range(i, coords.shape[0]):\n",
    "            if np.sum((coords[0] - coords[1])**2) < 2*radius:\n",
    "                return sample_disks(balls, radius)\n",
    "    return coords"
   ]
  },
  {
   "cell_type": "code",
   "execution_count": 101,
   "metadata": {},
   "outputs": [
    {
     "data": {
      "image/png": "[encoded data removed]",
      "text/plain": [
       "<Figure size 504x504 with 1 Axes>"
      ]
     },
     "metadata": {},
     "output_type": "display_data"
    }
   ],
   "source": [
    "plt.rcParams['figure.figsize'] = [7, 7]\n",
    "\n",
    "draw_circle(sample_disks(4, 0.02), 0.02)"
   ]
  },
  {
   "cell_type": "code",
   "execution_count": 123,
   "metadata": {},
   "outputs": [],
   "source": [
    "conf_a = np.array(a)\n",
    "conf_b = np.array(b)\n",
    "conf_c = np.array(c)\n",
    "\n",
    "hits = {\"conf_A\":0, \"conf_B\":0, \"conf_C\":0}\n",
    "\n",
    "eta = 0.05\n",
    "balls = 4\n",
    "radius = 0.15\n",
    "runs = int(1e6)"
   ]
  },
  {
   "cell_type": "code",
   "execution_count": 131,
   "metadata": {},
   "outputs": [
    {
     "name": "stdout",
     "output_type": "stream",
     "text": [
      "For 10 samples: {'conf_A': 0, 'conf_B': 1, 'conf_C': 0}\n",
      "For 100 samples: {'conf_A': 0, 'conf_B': 1, 'conf_C': 0}\n",
      "For 1000 samples: {'conf_A': 0, 'conf_B': 1, 'conf_C': 0}\n",
      "For 10000 samples: {'conf_A': 0, 'conf_B': 1, 'conf_C': 0}\n",
      "For 100000 samples: {'conf_A': 0, 'conf_B': 1, 'conf_C': 0}\n",
      "For 1000000 samples: {'conf_A': 0, 'conf_B': 3, 'conf_C': 1}\n"
     ]
    }
   ],
   "source": [
    "# Sampling of to compare results.\n",
    "\n",
    "for x in range(1, runs+1):\n",
    "    sample_points = sample_disks(balls, radius)\n",
    "\n",
    "    hits[\"conf_A\"] += (np.max(np.abs(sample_points - conf_a)) < eta)\n",
    "    hits[\"conf_B\"] += (np.max(np.abs(sample_points - conf_b)) < eta)\n",
    "    hits[\"conf_C\"] += (np.max(np.abs(sample_points - conf_c)) < eta)\n",
    "    \n",
    "    if x in [int(1e1), int(1e2), int(1e3), int(1e4), int(1e5), int(1e6)]:\n",
    "        print(\"For {} samples: {}\".format(x, hits))"
   ]
  },
  {
   "cell_type": "code",
   "execution_count": 138,
   "metadata": {},
   "outputs": [],
   "source": [
    "conf_a = np.array(a)\n",
    "conf_b = np.array(b)\n",
    "conf_c = np.array(c)\n",
    "\n",
    "hits = {\"conf_A\":0, \"conf_B\":0, \"conf_C\":0}\n",
    "\n",
    "eta = 0.10\n",
    "balls = 4\n",
    "radius = 0.15\n",
    "runs = int(1e6)"
   ]
  },
  {
   "cell_type": "code",
   "execution_count": 139,
   "metadata": {},
   "outputs": [
    {
     "name": "stdout",
     "output_type": "stream",
     "text": [
      "For 10 samples: {'conf_A': 0, 'conf_B': 0, 'conf_C': 0}\n",
      "For 100 samples: {'conf_A': 0, 'conf_B': 0, 'conf_C': 0}\n",
      "For 1000 samples: {'conf_A': 0, 'conf_B': 0, 'conf_C': 0}\n",
      "For 10000 samples: {'conf_A': 0, 'conf_B': 1, 'conf_C': 1}\n",
      "For 100000 samples: {'conf_A': 2, 'conf_B': 3, 'conf_C': 8}\n",
      "For 1000000 samples: {'conf_A': 13, 'conf_B': 41, 'conf_C': 61}\n"
     ]
    }
   ],
   "source": [
    "for x in range(1, runs+1):\n",
    "    sample_points = sample_disks(balls, radius)\n",
    "\n",
    "    hits[\"conf_A\"] += (np.max(np.abs(sample_points - conf_a)) < eta)\n",
    "    hits[\"conf_B\"] += (np.max(np.abs(sample_points - conf_b)) < eta)\n",
    "    hits[\"conf_C\"] += (np.max(np.abs(sample_points - conf_c)) < eta)\n",
    "    \n",
    "    if x in [int(1e1), int(1e2), int(1e3), int(1e4), int(1e5), int(1e6)]:\n",
    "        print(\"For {} samples: {}\".format(x, hits))"
   ]
  },
  {
   "cell_type": "markdown",
   "metadata": {},
   "source": [
    "Here all the points are configuration ie. each 8-dimensional points are sampled independently. But due to that sometime, such configurations are sampled which violates the overlapping constraints, but those configurations are rejected and the point is resampled until it doesn't violate the constraints.\n",
    "If the sampling was done as a chain, only the sampling os seed would be independent and the rest of the points will be conditioned on that first point and the probability of the sample will not be equiprobable each participant of the set of all possible configuration."
   ]
  },
  {
   "cell_type": "markdown",
   "metadata": {},
   "source": [
    "# Question 2"
   ]
  },
  {
   "cell_type": "markdown",
   "metadata": {},
   "source": [
    "Analogously, check equiprobability of the configurations a, b, and c of Section A1, for the algorithm markov_disks_box.py\n",
    "\n",
    "Compare with the analogous problem in Section A1: You might observe larger fluctuations of the results. Is that at all possible, given that Markov-chain sampling and Direct sampling should yield the same results?"
   ]
  },
  {
   "cell_type": "code",
   "execution_count": null,
   "metadata": {},
   "outputs": [],
   "source": []
  }
 ],
 "metadata": {
  "kernelspec": {
   "display_name": "Python 3",
   "language": "python",
   "name": "python3"
  },
  "language_info": {
   "codemirror_mode": {
    "name": "ipython",
    "version": 3
   },
   "file_extension": ".py",
   "mimetype": "text/x-python",
   "name": "python",
   "nbconvert_exporter": "python",
   "pygments_lexer": "ipython3",
   "version": "3.6.6"
  }
 },
 "nbformat": 4,
 "nbformat_minor": 2
}
