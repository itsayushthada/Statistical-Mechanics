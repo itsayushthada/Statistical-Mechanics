{
 "cells": [
  {
   "cell_type": "code",
   "execution_count": 1,
   "metadata": {},
   "outputs": [],
   "source": [
    "import numpy as np\n",
    "import matplotlib.pyplot as plt"
   ]
  },
  {
   "cell_type": "markdown",
   "metadata": {},
   "source": [
    "# Section A: Equiprobability"
   ]
  },
  {
   "cell_type": "markdown",
   "metadata": {},
   "source": [
    "### Question 1\n",
    "Check that equiprobability is satisfied in **direct_disks_box.py**. Check it not for all legal configurations, but for the three configurations (a, b, c) shown below. The probability to hit any of these configurations exactly is of course zero, so we must put little boxes around them, as shown in red:"
   ]
  },
  {
   "cell_type": "markdown",
   "metadata": {},
   "source": [
    "<img src=\"Section 1.png\"/>"
   ]
  },
  {
   "cell_type": "markdown",
   "metadata": {},
   "source": [
    "Using small boxes $[x - \\delta_{xy}, x + \\delta_{xy}]$, etc, modify the program **direct_disks_box_multirun.py** to show that the probability to sample configurations a, b, and c are the same (within the numerical precision), with"
   ]
  },
  {
   "cell_type": "code",
   "execution_count": 98,
   "metadata": {},
   "outputs": [],
   "source": [
    "a = ((0.30, 0.30), (0.30, 0.70), (0.70, 0.30), (0.70,0.70))\n",
    "b = ((0.20, 0.20), (0.20, 0.80), (0.75, 0.25), (0.75,0.75))\n",
    "c = ((0.30, 0.20), (0.30, 0.80), (0.70, 0.20), (0.70,0.70))"
   ]
  },
  {
   "cell_type": "markdown",
   "metadata": {},
   "source": [
    "### Solution"
   ]
  },
  {
   "cell_type": "code",
   "execution_count": 3,
   "metadata": {},
   "outputs": [],
   "source": [
    "def draw_circle(coord, radius):\n",
    "    fig, ax = plt.subplots()\n",
    "    for x in coord:\n",
    "        c = plt.Circle(x, radius) \n",
    "        ax.add_artist(c)\n",
    "    \n",
    "    plt.show()"
   ]
  },
  {
   "cell_type": "code",
   "execution_count": 4,
   "metadata": {},
   "outputs": [],
   "source": [
    "def sample_disks(balls, radius):\n",
    "    coords = np.random.uniform(low = radius, high = 1-radius, size=(balls, 2))\n",
    "    \n",
    "    for i in range(coords.shape[0]):\n",
    "        for j in range(i, coords.shape[0]):\n",
    "            if np.sum((coords[0] - coords[1])**2) < 2*radius:\n",
    "                return sample_disks(balls, radius)\n",
    "    return coords"
   ]
  },
  {
   "cell_type": "code",
   "execution_count": 5,
   "metadata": {},
   "outputs": [
    {
     "data": {
      "image/png": "[encoded data removed]",
      "text/plain": [
       "<Figure size 504x504 with 1 Axes>"
      ]
     },
     "metadata": {},
     "output_type": "display_data"
    }
   ],
   "source": [
    "plt.rcParams['figure.figsize'] = [7, 7]\n",
    "\n",
    "draw_circle(sample_disks(4, 0.02), 0.02)"
   ]
  },
  {
   "cell_type": "code",
   "execution_count": 6,
   "metadata": {},
   "outputs": [],
   "source": [
    "conf_a = np.array(a)\n",
    "conf_b = np.array(b)\n",
    "conf_c = np.array(c)\n",
    "\n",
    "hits = {\"conf_A\":0, \"conf_B\":0, \"conf_C\":0}\n",
    "\n",
    "eta = 0.05\n",
    "balls = 4\n",
    "radius = 0.15\n",
    "runs = int(1e6)"
   ]
  },
  {
   "cell_type": "code",
   "execution_count": 7,
   "metadata": {},
   "outputs": [
    {
     "name": "stdout",
     "output_type": "stream",
     "text": [
      "For 10 samples: {'conf_A': 0, 'conf_B': 0, 'conf_C': 0}\n",
      "For 100 samples: {'conf_A': 0, 'conf_B': 0, 'conf_C': 0}\n",
      "For 1000 samples: {'conf_A': 0, 'conf_B': 0, 'conf_C': 0}\n",
      "For 10000 samples: {'conf_A': 0, 'conf_B': 0, 'conf_C': 0}\n",
      "For 100000 samples: {'conf_A': 0, 'conf_B': 0, 'conf_C': 0}\n",
      "For 1000000 samples: {'conf_A': 0, 'conf_B': 1, 'conf_C': 1}\n"
     ]
    }
   ],
   "source": [
    "# Sampling of to compare results.\n",
    "\n",
    "for x in range(1, runs+1):\n",
    "    sample_points = sample_disks(balls, radius)\n",
    "\n",
    "    hits[\"conf_A\"] += (np.max(np.abs(sample_points - conf_a)) < eta)\n",
    "    hits[\"conf_B\"] += (np.max(np.abs(sample_points - conf_b)) < eta)\n",
    "    hits[\"conf_C\"] += (np.max(np.abs(sample_points - conf_c)) < eta)\n",
    "    \n",
    "    if x in [int(1e1), int(1e2), int(1e3), int(1e4), int(1e5), int(1e6)]:\n",
    "        print(\"For {} samples: {}\".format(x, hits))"
   ]
  },
  {
   "cell_type": "code",
   "execution_count": 8,
   "metadata": {},
   "outputs": [],
   "source": [
    "conf_a = np.array(a)\n",
    "conf_b = np.array(b)\n",
    "conf_c = np.array(c)\n",
    "\n",
    "hits = {\"conf_A\":0, \"conf_B\":0, \"conf_C\":0}\n",
    "\n",
    "eta = 0.10\n",
    "balls = 4\n",
    "radius = 0.15\n",
    "runs = int(1e6)"
   ]
  },
  {
   "cell_type": "code",
   "execution_count": 9,
   "metadata": {},
   "outputs": [
    {
     "name": "stdout",
     "output_type": "stream",
     "text": [
      "For 10 samples: {'conf_A': 0, 'conf_B': 0, 'conf_C': 0}\n",
      "For 100 samples: {'conf_A': 0, 'conf_B': 0, 'conf_C': 0}\n",
      "For 1000 samples: {'conf_A': 0, 'conf_B': 0, 'conf_C': 0}\n",
      "For 10000 samples: {'conf_A': 0, 'conf_B': 0, 'conf_C': 0}\n",
      "For 100000 samples: {'conf_A': 0, 'conf_B': 5, 'conf_C': 3}\n",
      "For 1000000 samples: {'conf_A': 15, 'conf_B': 58, 'conf_C': 62}\n"
     ]
    }
   ],
   "source": [
    "for x in range(1, runs+1):\n",
    "    sample_points = sample_disks(balls, radius)\n",
    "\n",
    "    hits[\"conf_A\"] += (np.max(np.abs(sample_points - conf_a)) < eta)\n",
    "    hits[\"conf_B\"] += (np.max(np.abs(sample_points - conf_b)) < eta)\n",
    "    hits[\"conf_C\"] += (np.max(np.abs(sample_points - conf_c)) < eta)\n",
    "    \n",
    "    if x in [int(1e1), int(1e2), int(1e3), int(1e4), int(1e5), int(1e6)]:\n",
    "        print(\"For {} samples: {}\".format(x, hits))"
   ]
  },
  {
   "cell_type": "markdown",
   "metadata": {},
   "source": [
    "Here all the points are configuration ie. each 8-dimensional points are sampled independently. But due to that sometime, such configurations are sampled which violates the overlapping constraints, but those configurations are rejected and the point is resampled until it doesn't violate the constraints.\n",
    "If the sampling was done as a chain, only the sampling os seed would be independent and the rest of the points will be conditioned on that first point and the probability of the sample will not be equiprobable each participant of the set of all possible configuration."
   ]
  },
  {
   "cell_type": "markdown",
   "metadata": {},
   "source": [
    "### Question 2"
   ]
  },
  {
   "cell_type": "markdown",
   "metadata": {},
   "source": [
    "Analogously, check equiprobability of the configurations a, b, and c of Section A1, for the algorithm markov_disks_box.py\n",
    "\n",
    "Compare with the analogous problem in Section A1: You might observe larger fluctuations of the results. Is that at all possible, given that Markov-chain sampling and Direct sampling should yield the same results?"
   ]
  },
  {
   "cell_type": "markdown",
   "metadata": {},
   "source": [
    "### Solution"
   ]
  },
  {
   "cell_type": "code",
   "execution_count": 51,
   "metadata": {},
   "outputs": [],
   "source": [
    "def sample_disks_markov(balls, radius, delta):\n",
    "    points = [np.random.uniform(low=radius, high=1-radius, size=(1,2))]\n",
    "    \n",
    "    while len(points)<balls:\n",
    "        n_point = points[-1] + np.random.uniform(low=-delta, high=delta, size=(1,2))\n",
    "        if np.min(n_point) >= radius and np.max(n_point) <= 1-radius:\n",
    "            points.append(n_point)\n",
    "    \n",
    "    points = np.squeeze(np.array(points))\n",
    "\n",
    "    for i in range(points.shape[0]):\n",
    "        for j in range(i, points.shape[0]):\n",
    "            if np.sum((points[0] - points[1])**2) < 2*radius:\n",
    "                return sample_disks_markov(balls, radius, delta)\n",
    "    return points"
   ]
  },
  {
   "cell_type": "code",
   "execution_count": 58,
   "metadata": {},
   "outputs": [
    {
     "data": {
      "image/png": "[encoded data removed]",
      "text/plain": [
       "<Figure size 504x504 with 1 Axes>"
      ]
     },
     "metadata": {},
     "output_type": "display_data"
    }
   ],
   "source": [
    "plt.rcParams['figure.figsize'] = [7, 7]\n",
    "\n",
    "draw_circle(sample_disks_markov(4, 0.02, 0.4), 0.02)"
   ]
  },
  {
   "cell_type": "code",
   "execution_count": 85,
   "metadata": {},
   "outputs": [],
   "source": [
    "conf_a = np.array(a)\n",
    "conf_b = np.array(b)\n",
    "conf_c = np.array(c)\n",
    "\n",
    "hits = {\"conf_A\":0, \"conf_B\":0, \"conf_C\":0}\n",
    "\n",
    "eta = 0.12\n",
    "balls = 4\n",
    "radius = 0.10\n",
    "delta = 0.5\n",
    "runs = int(1e6)"
   ]
  },
  {
   "cell_type": "code",
   "execution_count": 86,
   "metadata": {},
   "outputs": [
    {
     "name": "stdout",
     "output_type": "stream",
     "text": [
      "For 10 samples: {'conf_A': 0, 'conf_B': 0, 'conf_C': 0}\n",
      "For 100 samples: {'conf_A': 0, 'conf_B': 0, 'conf_C': 0}\n",
      "For 1000 samples: {'conf_A': 0, 'conf_B': 0, 'conf_C': 0}\n",
      "For 10000 samples: {'conf_A': 0, 'conf_B': 0, 'conf_C': 0}\n",
      "For 100000 samples: {'conf_A': 0, 'conf_B': 0, 'conf_C': 1}\n",
      "For 1000000 samples: {'conf_A': 0, 'conf_B': 0, 'conf_C': 22}\n"
     ]
    }
   ],
   "source": [
    "# Sampling to compare results.\n",
    "\n",
    "for x in range(1, runs+1):\n",
    "    sample_points = sample_disks_markov(balls, radius, delta)\n",
    "\n",
    "    hits[\"conf_A\"] += (np.max(np.abs(sample_points - conf_a)) < eta)\n",
    "    hits[\"conf_B\"] += (np.max(np.abs(sample_points - conf_b)) < eta)\n",
    "    hits[\"conf_C\"] += (np.max(np.abs(sample_points - conf_c)) < eta)\n",
    "    \n",
    "    if x in [int(1e1), int(1e2), int(1e3), int(1e4), int(1e5), int(1e6)]:\n",
    "        print(\"For {} samples: {}\".format(x, hits))"
   ]
  },
  {
   "cell_type": "markdown",
   "metadata": {},
   "source": [
    "Markov-chain sampling and Direct sampling could yield the same results but for very large numbers of runs because in Markov Chain sampling many samples are rejected and that can be compensated by collecting a large number of samples.\n",
    "\n",
    "Markov chain sampling can result in equiprobability states only if the jump size if space from which has to be sampled is a subset of the set of points which can be sampled at any time instant t in the Markov Chain sampling which is possible only if the jump size is large enough that it over the whole space from which sampling has to be done.\n",
    "\n",
    "In case of relatively small jump size, as compared to the dimension of the space, all the points of space may not equally probable."
   ]
  },
  {
   "cell_type": "markdown",
   "metadata": {},
   "source": [
    "### Question 3\n",
    "\n",
    "Consider the program event_disks_box.py.\n",
    "\n",
    "Prove, without any numerical simulations, that no event-configuration will count for the configurations a, b, c of Section A1. Show that this means that the event positions are not equally probable (Note that this is rather natural).\n",
    "\n",
    "Modify the program event_disks_box.py, so that it determines the configurations at constant time intervals, t=0, Delta t, 2 Delta t, 3 Delta t,.. It is for these configurations that equal probability should be valid.\n",
    "\n",
    "Note that in this program, we use del_xy = 0.1, and sigma = 0.1, in order to improve statistics.\n",
    "\n",
    "Then do the following:\n",
    "\n",
    "+ First answer the question about event-configurations from the beginning of the section.\n",
    "+ Run the program for 5,000,000 events, write down how many times you were close to a, b, and c. (choose smaller number of events, if you cannot run that long). Do you get an indication in favor of equiprobability?\n",
    "+ What is the total running time at the end of the simulation, and at what times are the configurations analyzed (is it at time 0,1,2,3,... or at times 0,2,4,6,... or at times 0, 0.1, 0.2, 0.3....?). (Hint: put print statements to find out)."
   ]
  },
  {
   "cell_type": "markdown",
   "metadata": {},
   "source": [
    "### Solution"
   ]
  },
  {
   "cell_type": "code",
   "execution_count": 117,
   "metadata": {},
   "outputs": [],
   "source": [
    "import math\n",
    "\n",
    "def wall_time(pos_a, vel_a, sigma):\n",
    "    if vel_a > 0.0:\n",
    "        del_t = (1.0 - sigma - pos_a) / vel_a\n",
    "    elif vel_a < 0.0:\n",
    "        del_t = (pos_a - sigma) / abs(vel_a)\n",
    "    else:\n",
    "        del_t = float('inf')\n",
    "    return del_t\n",
    "\n",
    "def pair_time(pos_a, vel_a, pos_b, vel_b, sigma):\n",
    "    del_x = [pos_b[0] - pos_a[0], pos_b[1] - pos_a[1]]\n",
    "    del_x_sq = del_x[0] ** 2 + del_x[1] ** 2\n",
    "    del_v = [vel_b[0] - vel_a[0], vel_b[1] - vel_a[1]]\n",
    "    del_v_sq = del_v[0] ** 2 + del_v[1] ** 2\n",
    "    scal = del_v[0] * del_x[0] + del_v[1] * del_x[1]\n",
    "    Upsilon = scal ** 2 - del_v_sq * ( del_x_sq - 4.0 * sigma **2)\n",
    "    if Upsilon > 0.0 and scal < 0.0:\n",
    "        del_t = - (scal + math.sqrt(Upsilon)) / del_v_sq\n",
    "    else:\n",
    "        del_t = float('inf')\n",
    "    return del_t"
   ]
  },
  {
   "cell_type": "code",
   "execution_count": 114,
   "metadata": {},
   "outputs": [],
   "source": [
    "conf_a = ((0.30, 0.30), (0.30, 0.70), (0.70, 0.30), (0.70,0.70))\n",
    "conf_b = ((0.20, 0.20), (0.20, 0.80), (0.75, 0.25), (0.75,0.75))\n",
    "conf_c = ((0.30, 0.20), (0.30, 0.80), (0.70, 0.20), (0.70,0.70))\n",
    "\n",
    "configurations = [conf_a, conf_b, conf_c]\n",
    "hits = {conf_a: 0, conf_b: 0, conf_c: 0}\n",
    "del_xy = 0.10\n",
    "\n",
    "pos = [[0.25, 0.25], [0.75, 0.25], [0.25, 0.75], [0.75, 0.75]]\n",
    "vel = [[0.21, 0.12], [0.71, 0.18], [-0.23, -0.79], [0.78, 0.1177]]\n",
    "singles = [(0, 0), (0, 1), (1, 0), (1, 1), (2, 0), (2, 1), (3, 0), (3, 1)]\n",
    "pairs = [(0, 1), (0, 2), (0, 3), (1, 2), (1, 3), (2, 3)]\n",
    "\n",
    "sigma = 0.10\n",
    "t = 0.0\n",
    "n_events = 5000000"
   ]
  },
  {
   "cell_type": "code",
   "execution_count": 115,
   "metadata": {},
   "outputs": [
    {
     "name": "stdout",
     "output_type": "stream",
     "text": [
      "0\n",
      "100000\n",
      "200000\n",
      "300000\n",
      "400000\n",
      "500000\n",
      "600000\n",
      "700000\n",
      "800000\n",
      "900000\n",
      "1000000\n",
      "1100000\n",
      "1200000\n",
      "1300000\n",
      "1400000\n",
      "1500000\n",
      "1600000\n",
      "1700000\n",
      "1800000\n",
      "1900000\n",
      "2000000\n",
      "2100000\n",
      "2200000\n",
      "2300000\n",
      "2400000\n",
      "2500000\n",
      "2600000\n",
      "2700000\n",
      "2800000\n",
      "2900000\n",
      "3000000\n",
      "3100000\n",
      "3200000\n",
      "3300000\n",
      "3400000\n",
      "3500000\n",
      "3600000\n",
      "3700000\n",
      "3800000\n",
      "3900000\n",
      "4000000\n",
      "4100000\n",
      "4200000\n",
      "4300000\n",
      "4400000\n",
      "4500000\n",
      "4600000\n",
      "4700000\n",
      "4800000\n",
      "4900000\n",
      "((0.3, 0.3), (0.3, 0.7), (0.7, 0.3), (0.7, 0.7)) 706\n",
      "((0.2, 0.2), (0.2, 0.8), (0.75, 0.25), (0.75, 0.75)) 680\n",
      "((0.3, 0.2), (0.3, 0.8), (0.7, 0.2), (0.7, 0.7)) 663\n"
     ]
    }
   ],
   "source": [
    "for event in range(n_events):\n",
    "    if event % 100000 == 0:\n",
    "        print (event)\n",
    "    wall_times = [wall_time(pos[k][l], vel[k][l], sigma) for k, l  in singles]\n",
    "    pair_times = [pair_time(pos[k], vel[k], pos[l], vel[l], sigma) for k, l in pairs]\n",
    "    next_event = min(wall_times + pair_times)\n",
    "    t_previous = t\n",
    "    \n",
    "    for inter_times in range(int(t + 1), int(t + next_event + 1)):\n",
    "        del_t = inter_times - t_previous\n",
    "        for k, l in singles:\n",
    "            pos[k][l] += vel[k][l] * del_t\n",
    "        t_previous = inter_times\n",
    "        for conf in configurations:\n",
    "            condition_hit = True\n",
    "            for b in conf:\n",
    "                condition_b = min(max(abs(a[0] - b[0]), abs(a[1] - b[1])) for a in pos) < del_xy\n",
    "                condition_hit *= condition_b\n",
    "            if condition_hit:\n",
    "                hits[conf] += 1\n",
    "    t += next_event\n",
    "    del_t = t - t_previous\n",
    "    \n",
    "    for k, l in singles:\n",
    "        pos[k][l] += vel[k][l] * del_t\n",
    "        \n",
    "    if min(wall_times) < min(pair_times):\n",
    "        collision_disk, direction = singles[wall_times.index(next_event)]\n",
    "        vel[collision_disk][direction] *= -1.0\n",
    "    else:\n",
    "        a, b = pairs[pair_times.index(next_event)]\n",
    "        del_x = [pos[b][0] - pos[a][0], pos[b][1] - pos[a][1]]\n",
    "        abs_x = math.sqrt(del_x[0] ** 2 + del_x[1] ** 2)\n",
    "        e_perp = [c / abs_x for c in del_x]\n",
    "        del_v = [vel[b][0] - vel[a][0], vel[b][1] - vel[a][1]]\n",
    "        scal = del_v[0] * e_perp[0] + del_v[1] * e_perp[1]\n",
    "        \n",
    "        for k in range(2):\n",
    "            vel[a][k] += e_perp[k] * scal\n",
    "            vel[b][k] -= e_perp[k] * scal\n",
    "\n",
    "for conf in configurations:\n",
    "    print (conf, hits[conf])"
   ]
  },
  {
   "cell_type": "markdown",
   "metadata": {},
   "source": [
    "**1.** Not Answered yet.\n",
    "\n",
    "**2.** I was close to A, B and C 706, 680 &  663 times respectively. According to this simulation as well as other simulations that I've tried, it seems that A, B, and C are equiprobable.\n",
    "\n",
    "**3.** Total Running Time: 611851.1288527708 units"
   ]
  },
  {
   "cell_type": "code",
   "execution_count": null,
   "metadata": {},
   "outputs": [],
   "source": []
  }
 ],
 "metadata": {
  "kernelspec": {
   "display_name": "Python 3",
   "language": "python",
   "name": "python3"
  },
  "language_info": {
   "codemirror_mode": {
    "name": "ipython",
    "version": 3
   },
   "file_extension": ".py",
   "mimetype": "text/x-python",
   "name": "python",
   "nbconvert_exporter": "python",
   "pygments_lexer": "ipython3",
   "version": "3.6.6"
  }
 },
 "nbformat": 4,
 "nbformat_minor": 2
}
